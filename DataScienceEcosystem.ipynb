{
 "cells": [
  {
   "cell_type": "markdown",
   "id": "b0cf4585",
   "metadata": {},
   "source": [
    "# Data Science Tools and Ecosystem\n"
   ]
  },
  {
   "cell_type": "markdown",
   "id": "8786e041",
   "metadata": {},
   "source": [
    "In this notebook, Data Science tools and Ecosystem are summarized."
   ]
  },
  {
   "cell_type": "markdown",
   "id": "b9d6a265",
   "metadata": {},
   "source": [
    "Some of the popular languages that Data Scientists use are:\n",
    "1. Python.\n",
    "2. R.\n",
    "3. SQL."
   ]
  },
  {
   "cell_type": "markdown",
   "id": "051ab241",
   "metadata": {},
   "source": [
    "Some of the commonly used libraries by Data Scientists include:\n",
    "1. Scientific computing libraries (e.x: Pandas, NeomPy.)\n",
    "2. Data visualization libraries (e.x: Matplotlib, Seaborn)\n",
    "3. Machine/Deep learning libraries (e.x: Scikit-learn, Keras) etc."
   ]
  },
  {
   "cell_type": "markdown",
   "id": "172b440f",
   "metadata": {},
   "source": [
    "|Data science tools|\n",
    "|------------------|\n",
    "|Apache Airflow|\n",
    "|Apache superset|\n",
    "|IBM AI fairness 360|"
   ]
  },
  {
   "cell_type": "markdown",
   "id": "890b87e1",
   "metadata": {},
   "source": [
    "### Below are a few examples of evaluating arithmetic expressions in Python."
   ]
  },
  {
   "cell_type": "markdown",
   "id": "77ad5c88",
   "metadata": {},
   "source": [
    "This a simple arithmetic expression to mutiply then add integers."
   ]
  },
  {
   "cell_type": "code",
   "execution_count": 2,
   "id": "09dfec06",
   "metadata": {},
   "outputs": [
    {
     "data": {
      "text/plain": [
       "17"
      ]
     },
     "execution_count": 2,
     "metadata": {},
     "output_type": "execute_result"
    }
   ],
   "source": [
    "(3*4)+5"
   ]
  },
  {
   "cell_type": "markdown",
   "id": "3f37ff42",
   "metadata": {},
   "source": [
    "This will convert 200 minutes to hours by dividing by 60."
   ]
  },
  {
   "cell_type": "code",
   "execution_count": 1,
   "id": "b8a40a4b",
   "metadata": {},
   "outputs": [
    {
     "name": "stdout",
     "output_type": "stream",
     "text": [
      "[1] 3.333333\n"
     ]
    }
   ],
   "source": [
    "x = 200\n",
    "y = 60\n",
    "print (x/y)"
   ]
  },
  {
   "cell_type": "markdown",
   "id": "97003605",
   "metadata": {},
   "source": [
    "**Objectives covered in this notebook:**"
   ]
  },
  {
   "cell_type": "markdown",
   "id": "498784ac",
   "metadata": {},
   "source": [
    "* Creating markdown cells.\n",
    "* Different styles/types of titles.\n",
    "* Creating ordered style lists.\n",
    "* Creating unordered style lists.\n",
    "* Creating a columned table.\n",
    "* Different styles of headings.\n",
    "* Taking screenshots.\n",
    "* Using arythmetic expressions.\n",
    "* Saving the notebook.\n",
    "* Uploading the notebook on Github."
   ]
  },
  {
   "cell_type": "markdown",
   "id": "56e643af",
   "metadata": {},
   "source": [
    "## Author"
   ]
  },
  {
   "cell_type": "markdown",
   "id": "446efc84",
   "metadata": {},
   "source": [
    "Aqeel Faisal"
   ]
  },
  {
   "cell_type": "code",
   "execution_count": null,
   "id": "baac441b",
   "metadata": {},
   "outputs": [],
   "source": []
  }
 ],
 "metadata": {
  "kernelspec": {
   "display_name": "R",
   "language": "R",
   "name": "ir"
  },
  "language_info": {
   "codemirror_mode": "r",
   "file_extension": ".r",
   "mimetype": "text/x-r-source",
   "name": "R",
   "pygments_lexer": "r",
   "version": "3.6.1"
  }
 },
 "nbformat": 4,
 "nbformat_minor": 5
}
